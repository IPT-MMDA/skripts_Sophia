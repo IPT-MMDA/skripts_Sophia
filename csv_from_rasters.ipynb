{
 "cells": [
  {
   "cell_type": "code",
   "execution_count": 59,
   "id": "0811ada3",
   "metadata": {},
   "outputs": [],
   "source": [
    "\"\"\"Created on Aug 9 12:38:36 2022\n",
    "\n",
    "@author: Sophia Drozd\n",
    "\"\"\"\n",
    "import pandas as pd\n",
    "import numpy as np\n",
    "import rioxarray\n"
   ]
  },
  {
   "cell_type": "code",
   "execution_count": 60,
   "id": "76495164",
   "metadata": {},
   "outputs": [],
   "source": [
    "ukr = rioxarray.open_rasterio(\"C:\\\\Users\\\\Sofi\\\\Downloads\\\\Ukraine_regions_sinu_500m.tif\")"
   ]
  },
  {
   "cell_type": "code",
   "execution_count": 61,
   "id": "65064a21",
   "metadata": {},
   "outputs": [],
   "source": [
    "ukr_reg = ukr.squeeze().drop(\"spatial_ref\").drop(\"band\")\n",
    "ukr_reg.name = \"region\"\n",
    "res = ukr_reg.to_dataframe().reset_index()\n"
   ]
  },
  {
   "cell_type": "code",
   "execution_count": 62,
   "id": "cc7f0aa0",
   "metadata": {},
   "outputs": [],
   "source": [
    "res[['x','y']] = res[['x','y']].astype('float32')"
   ]
  },
  {
   "cell_type": "code",
   "execution_count": 63,
   "id": "b29b495f",
   "metadata": {},
   "outputs": [],
   "source": [
    "ukr_mask = res[res['region']>0]"
   ]
  },
  {
   "cell_type": "code",
   "execution_count": 64,
   "id": "6e03d674",
   "metadata": {},
   "outputs": [],
   "source": [
    "def prepare_crop(df,year):\n",
    "    for i in range(5,9):\n",
    "        crop = rioxarray.open_rasterio(\"C:\\\\Users\\\\Sofi\\\\Desktop\\\\\"+str(i)+\"\\\\\"+str(i)+\"_\"+str(year)+\"_new.tif\").squeeze().drop(\"spatial_ref\").drop(\"band\")\n",
    "        crop.name = \"crop_\"+str(i)+\"_\"+str(year)\n",
    "        crop = crop.to_dataframe().reset_index()\n",
    "        crop[['x','y']] = crop[['x','y']].astype('float32')\n",
    "        df = df.merge(crop, on = ['x','y'])\n",
    "    return df\n",
    "        "
   ]
  },
  {
   "cell_type": "code",
   "execution_count": 65,
   "id": "bfec4f47",
   "metadata": {},
   "outputs": [],
   "source": [
    "merged = prepare_crop(ukr_mask,2021)"
   ]
  },
  {
   "cell_type": "code",
   "execution_count": 66,
   "id": "f1fd5cee",
   "metadata": {},
   "outputs": [
    {
     "data": {
      "text/html": [
       "<div>\n",
       "<style scoped>\n",
       "    .dataframe tbody tr th:only-of-type {\n",
       "        vertical-align: middle;\n",
       "    }\n",
       "\n",
       "    .dataframe tbody tr th {\n",
       "        vertical-align: top;\n",
       "    }\n",
       "\n",
       "    .dataframe thead th {\n",
       "        text-align: right;\n",
       "    }\n",
       "</style>\n",
       "<table border=\"1\" class=\"dataframe\">\n",
       "  <thead>\n",
       "    <tr style=\"text-align: right;\">\n",
       "      <th></th>\n",
       "      <th>y</th>\n",
       "      <th>x</th>\n",
       "      <th>region</th>\n",
       "      <th>crop_5_2021</th>\n",
       "      <th>crop_6_2021</th>\n",
       "      <th>crop_7_2021</th>\n",
       "      <th>crop_8_2021</th>\n",
       "    </tr>\n",
       "  </thead>\n",
       "  <tbody>\n",
       "    <tr>\n",
       "      <th>0</th>\n",
       "      <td>5824072.5</td>\n",
       "      <td>2253321.50</td>\n",
       "      <td>24</td>\n",
       "      <td>0</td>\n",
       "      <td>0</td>\n",
       "      <td>31</td>\n",
       "      <td>0</td>\n",
       "    </tr>\n",
       "    <tr>\n",
       "      <th>1</th>\n",
       "      <td>5823609.0</td>\n",
       "      <td>2252394.75</td>\n",
       "      <td>24</td>\n",
       "      <td>53</td>\n",
       "      <td>0</td>\n",
       "      <td>0</td>\n",
       "      <td>0</td>\n",
       "    </tr>\n",
       "    <tr>\n",
       "      <th>2</th>\n",
       "      <td>5823609.0</td>\n",
       "      <td>2252858.00</td>\n",
       "      <td>24</td>\n",
       "      <td>56</td>\n",
       "      <td>0</td>\n",
       "      <td>0</td>\n",
       "      <td>0</td>\n",
       "    </tr>\n",
       "    <tr>\n",
       "      <th>3</th>\n",
       "      <td>5823609.0</td>\n",
       "      <td>2253321.50</td>\n",
       "      <td>24</td>\n",
       "      <td>22</td>\n",
       "      <td>0</td>\n",
       "      <td>0</td>\n",
       "      <td>0</td>\n",
       "    </tr>\n",
       "    <tr>\n",
       "      <th>4</th>\n",
       "      <td>5823609.0</td>\n",
       "      <td>2253784.75</td>\n",
       "      <td>24</td>\n",
       "      <td>68</td>\n",
       "      <td>0</td>\n",
       "      <td>26</td>\n",
       "      <td>0</td>\n",
       "    </tr>\n",
       "    <tr>\n",
       "      <th>...</th>\n",
       "      <td>...</td>\n",
       "      <td>...</td>\n",
       "      <td>...</td>\n",
       "      <td>...</td>\n",
       "      <td>...</td>\n",
       "      <td>...</td>\n",
       "      <td>...</td>\n",
       "    </tr>\n",
       "    <tr>\n",
       "      <th>2791332</th>\n",
       "      <td>4935902.0</td>\n",
       "      <td>2681422.25</td>\n",
       "      <td>25</td>\n",
       "      <td>0</td>\n",
       "      <td>0</td>\n",
       "      <td>0</td>\n",
       "      <td>0</td>\n",
       "    </tr>\n",
       "    <tr>\n",
       "      <th>2791333</th>\n",
       "      <td>4935902.0</td>\n",
       "      <td>2683275.50</td>\n",
       "      <td>25</td>\n",
       "      <td>0</td>\n",
       "      <td>0</td>\n",
       "      <td>0</td>\n",
       "      <td>0</td>\n",
       "    </tr>\n",
       "    <tr>\n",
       "      <th>2791334</th>\n",
       "      <td>4935902.0</td>\n",
       "      <td>2683739.00</td>\n",
       "      <td>25</td>\n",
       "      <td>0</td>\n",
       "      <td>0</td>\n",
       "      <td>0</td>\n",
       "      <td>0</td>\n",
       "    </tr>\n",
       "    <tr>\n",
       "      <th>2791335</th>\n",
       "      <td>4935902.0</td>\n",
       "      <td>2684202.25</td>\n",
       "      <td>25</td>\n",
       "      <td>0</td>\n",
       "      <td>0</td>\n",
       "      <td>0</td>\n",
       "      <td>0</td>\n",
       "    </tr>\n",
       "    <tr>\n",
       "      <th>2791336</th>\n",
       "      <td>4935902.0</td>\n",
       "      <td>2684665.50</td>\n",
       "      <td>25</td>\n",
       "      <td>0</td>\n",
       "      <td>0</td>\n",
       "      <td>0</td>\n",
       "      <td>0</td>\n",
       "    </tr>\n",
       "  </tbody>\n",
       "</table>\n",
       "<p>2791337 rows × 7 columns</p>\n",
       "</div>"
      ],
      "text/plain": [
       "                 y           x  region  crop_5_2021  crop_6_2021  crop_7_2021  \\\n",
       "0        5824072.5  2253321.50      24            0            0           31   \n",
       "1        5823609.0  2252394.75      24           53            0            0   \n",
       "2        5823609.0  2252858.00      24           56            0            0   \n",
       "3        5823609.0  2253321.50      24           22            0            0   \n",
       "4        5823609.0  2253784.75      24           68            0           26   \n",
       "...            ...         ...     ...          ...          ...          ...   \n",
       "2791332  4935902.0  2681422.25      25            0            0            0   \n",
       "2791333  4935902.0  2683275.50      25            0            0            0   \n",
       "2791334  4935902.0  2683739.00      25            0            0            0   \n",
       "2791335  4935902.0  2684202.25      25            0            0            0   \n",
       "2791336  4935902.0  2684665.50      25            0            0            0   \n",
       "\n",
       "         crop_8_2021  \n",
       "0                  0  \n",
       "1                  0  \n",
       "2                  0  \n",
       "3                  0  \n",
       "4                  0  \n",
       "...              ...  \n",
       "2791332            0  \n",
       "2791333            0  \n",
       "2791334            0  \n",
       "2791335            0  \n",
       "2791336            0  \n",
       "\n",
       "[2791337 rows x 7 columns]"
      ]
     },
     "execution_count": 66,
     "metadata": {},
     "output_type": "execute_result"
    }
   ],
   "source": [
    "merged"
   ]
  },
  {
   "cell_type": "code",
   "execution_count": 67,
   "id": "264be2b5",
   "metadata": {},
   "outputs": [],
   "source": [
    "def merge(df, file):\n",
    "    data = rioxarray.open_rasterio(file).squeeze().drop(\"spatial_ref\").drop(\"band\")\n",
    "    data.name = file[29:-4]\n",
    "    data = data.to_dataframe().reset_index()\n",
    "    data[['x','y']]= data[['x','y']].astype(\"float32\")\n",
    "    for b in range(0,8):\n",
    "        band = data[data.band==b].drop(['band'],axis=1)\n",
    "        band = band.rename(columns = {file[29:-4] : file[29:-4]+\"_\"+str(b+1)})\n",
    "        df = df.merge(band, on = ['x','y'])\n",
    "    return df\n",
    "    "
   ]
  },
  {
   "cell_type": "code",
   "execution_count": 68,
   "id": "dd118d1b",
   "metadata": {},
   "outputs": [],
   "source": [
    "import glob\n",
    "modis_data = glob.glob(\"C:\\\\Users\\\\Sofi\\\\Downloads\\\\2021\\\\*.tif\")"
   ]
  },
  {
   "cell_type": "code",
   "execution_count": 69,
   "id": "17eb5fe1",
   "metadata": {},
   "outputs": [
    {
     "data": {
      "text/plain": [
       "46"
      ]
     },
     "execution_count": 69,
     "metadata": {},
     "output_type": "execute_result"
    }
   ],
   "source": [
    "len(modis_data)"
   ]
  },
  {
   "cell_type": "code",
   "execution_count": 70,
   "id": "d8f9deab",
   "metadata": {},
   "outputs": [
    {
     "name": "stdout",
     "output_type": "stream",
     "text": [
      "C:\\Users\\Sofi\\Downloads\\2021\\MOD09A1.A2021001.Ukraine.brdf_product.02.02.tif\n",
      "C:\\Users\\Sofi\\Downloads\\2021\\MOD09A1.A2021009.Ukraine.brdf_product.02.02.tif\n",
      "C:\\Users\\Sofi\\Downloads\\2021\\MOD09A1.A2021017.Ukraine.brdf_product.02.02.tif\n",
      "C:\\Users\\Sofi\\Downloads\\2021\\MOD09A1.A2021025.Ukraine.brdf_product.02.02.tif\n",
      "C:\\Users\\Sofi\\Downloads\\2021\\MOD09A1.A2021033.Ukraine.brdf_product.02.02.tif\n",
      "C:\\Users\\Sofi\\Downloads\\2021\\MOD09A1.A2021041.Ukraine.brdf_product.02.02.tif\n",
      "C:\\Users\\Sofi\\Downloads\\2021\\MOD09A1.A2021049.Ukraine.brdf_product.02.02.tif\n",
      "C:\\Users\\Sofi\\Downloads\\2021\\MOD09A1.A2021057.Ukraine.brdf_product.02.02.tif\n",
      "C:\\Users\\Sofi\\Downloads\\2021\\MOD09A1.A2021065.Ukraine.brdf_product.02.02.tif\n",
      "C:\\Users\\Sofi\\Downloads\\2021\\MOD09A1.A2021073.Ukraine.brdf_product.02.02.tif\n",
      "C:\\Users\\Sofi\\Downloads\\2021\\MOD09A1.A2021081.Ukraine.brdf_product.02.02.tif\n",
      "C:\\Users\\Sofi\\Downloads\\2021\\MOD09A1.A2021089.Ukraine.brdf_product.02.02.tif\n",
      "C:\\Users\\Sofi\\Downloads\\2021\\MOD09A1.A2021097.Ukraine.brdf_product.02.02.tif\n",
      "C:\\Users\\Sofi\\Downloads\\2021\\MOD09A1.A2021105.Ukraine.brdf_product.02.02.tif\n",
      "C:\\Users\\Sofi\\Downloads\\2021\\MOD09A1.A2021113.Ukraine.brdf_product.02.02.tif\n",
      "C:\\Users\\Sofi\\Downloads\\2021\\MOD09A1.A2021121.Ukraine.brdf_product.02.02.tif\n",
      "C:\\Users\\Sofi\\Downloads\\2021\\MOD09A1.A2021129.Ukraine.brdf_product.02.02.tif\n",
      "C:\\Users\\Sofi\\Downloads\\2021\\MOD09A1.A2021137.Ukraine.brdf_product.02.02.tif\n",
      "C:\\Users\\Sofi\\Downloads\\2021\\MOD09A1.A2021145.Ukraine.brdf_product.02.02.tif\n",
      "C:\\Users\\Sofi\\Downloads\\2021\\MOD09A1.A2021153.Ukraine.brdf_product.02.02.tif\n",
      "C:\\Users\\Sofi\\Downloads\\2021\\MOD09A1.A2021161.Ukraine.brdf_product.02.02.tif\n",
      "C:\\Users\\Sofi\\Downloads\\2021\\MOD09A1.A2021169.Ukraine.brdf_product.02.02.tif\n",
      "C:\\Users\\Sofi\\Downloads\\2021\\MOD09A1.A2021177.Ukraine.brdf_product.02.02.tif\n",
      "C:\\Users\\Sofi\\Downloads\\2021\\MOD09A1.A2021185.Ukraine.brdf_product.02.02.tif\n",
      "C:\\Users\\Sofi\\Downloads\\2021\\MOD09A1.A2021193.Ukraine.brdf_product.02.02.tif\n",
      "C:\\Users\\Sofi\\Downloads\\2021\\MOD09A1.A2021201.Ukraine.brdf_product.02.02.tif\n",
      "C:\\Users\\Sofi\\Downloads\\2021\\MOD09A1.A2021209.Ukraine.brdf_product.02.02.tif\n",
      "C:\\Users\\Sofi\\Downloads\\2021\\MOD09A1.A2021217.Ukraine.brdf_product.02.02.tif\n",
      "C:\\Users\\Sofi\\Downloads\\2021\\MOD09A1.A2021225.Ukraine.brdf_product.02.02.tif\n",
      "C:\\Users\\Sofi\\Downloads\\2021\\MOD09A1.A2021233.Ukraine.brdf_product.02.02.tif\n",
      "C:\\Users\\Sofi\\Downloads\\2021\\MOD09A1.A2021241.Ukraine.brdf_product.02.02.tif\n",
      "C:\\Users\\Sofi\\Downloads\\2021\\MOD09A1.A2021249.Ukraine.brdf_product.02.02.tif\n",
      "C:\\Users\\Sofi\\Downloads\\2021\\MOD09A1.A2021257.Ukraine.brdf_product.02.02.tif\n",
      "C:\\Users\\Sofi\\Downloads\\2021\\MOD09A1.A2021265.Ukraine.brdf_product.02.02.tif\n",
      "C:\\Users\\Sofi\\Downloads\\2021\\MOD09A1.A2021273.Ukraine.brdf_product.02.02.tif\n",
      "C:\\Users\\Sofi\\Downloads\\2021\\MOD09A1.A2021281.Ukraine.brdf_product.02.02.tif\n",
      "C:\\Users\\Sofi\\Downloads\\2021\\MOD09A1.A2021289.Ukraine.brdf_product.02.02.tif\n",
      "C:\\Users\\Sofi\\Downloads\\2021\\MOD09A1.A2021297.Ukraine.brdf_product.02.02.tif\n",
      "C:\\Users\\Sofi\\Downloads\\2021\\MOD09A1.A2021305.Ukraine.brdf_product.02.02.tif\n",
      "C:\\Users\\Sofi\\Downloads\\2021\\MOD09A1.A2021313.Ukraine.brdf_product.02.02.tif\n",
      "C:\\Users\\Sofi\\Downloads\\2021\\MOD09A1.A2021321.Ukraine.brdf_product.02.02.tif\n",
      "C:\\Users\\Sofi\\Downloads\\2021\\MOD09A1.A2021329.Ukraine.brdf_product.02.02.tif\n",
      "C:\\Users\\Sofi\\Downloads\\2021\\MOD09A1.A2021337.Ukraine.brdf_product.02.02.tif\n",
      "C:\\Users\\Sofi\\Downloads\\2021\\MOD09A1.A2021345.Ukraine.brdf_product.02.02.tif\n",
      "C:\\Users\\Sofi\\Downloads\\2021\\MOD09A1.A2021353.Ukraine.brdf_product.02.02.tif\n",
      "C:\\Users\\Sofi\\Downloads\\2021\\MOD09A1.A2021361.Ukraine.brdf_product.02.02.tif\n"
     ]
    }
   ],
   "source": [
    "for file in modis_data:\n",
    "    print(file)\n",
    "    merged = merge(merged,file)"
   ]
  },
  {
   "cell_type": "code",
   "execution_count": 18,
   "id": "b0dd027a",
   "metadata": {},
   "outputs": [
    {
     "data": {
      "text/plain": [
       "y                                                float32\n",
       "x                                                float32\n",
       "region                                             uint8\n",
       "crop_5_2020                                        uint8\n",
       "crop_6_2020                                        uint8\n",
       "                                                  ...   \n",
       "MOD09A1.A2020361.Ukraine.brdf_product.02.02_4      int16\n",
       "MOD09A1.A2020361.Ukraine.brdf_product.02.02_5      int16\n",
       "MOD09A1.A2020361.Ukraine.brdf_product.02.02_6      int16\n",
       "MOD09A1.A2020361.Ukraine.brdf_product.02.02_7      int16\n",
       "MOD09A1.A2020361.Ukraine.brdf_product.02.02_8      int16\n",
       "Length: 375, dtype: object"
      ]
     },
     "execution_count": 18,
     "metadata": {},
     "output_type": "execute_result"
    }
   ],
   "source": [
    "merged.dtypes"
   ]
  },
  {
   "cell_type": "code",
   "execution_count": 71,
   "id": "2443e43a",
   "metadata": {},
   "outputs": [],
   "source": [
    "merged.to_csv(\"data_2021.csv\")"
   ]
  },
  {
   "cell_type": "code",
   "execution_count": null,
   "id": "e573b140",
   "metadata": {},
   "outputs": [],
   "source": []
  }
 ],
 "metadata": {
  "kernelspec": {
   "display_name": "Python 3 (ipykernel)",
   "language": "python",
   "name": "python3"
  },
  "language_info": {
   "codemirror_mode": {
    "name": "ipython",
    "version": 3
   },
   "file_extension": ".py",
   "mimetype": "text/x-python",
   "name": "python",
   "nbconvert_exporter": "python",
   "pygments_lexer": "ipython3",
   "version": "3.10.0"
  }
 },
 "nbformat": 4,
 "nbformat_minor": 5
}
